{
 "cells": [
  {
   "cell_type": "code",
   "execution_count": 12,
   "metadata": {},
   "outputs": [],
   "source": [
    "# Importaciones de librerias y src\n",
    "import sys\n",
    "import os\n",
    "sys.path.append(\"../\")\n",
    "from src import soporte_codigos as sop\n",
    "# from src import llamar_api_demanda as demanda\n",
    "# from src import llamar_api_generacion as generacion\n"
   ]
  },
  {
   "cell_type": "code",
   "execution_count": 13,
   "metadata": {},
   "outputs": [],
   "source": [
    "import sys\n",
    "import os\n",
    "\n",
    "import json\n",
    "import pandas as pd \n",
    "\n",
    "import requests"
   ]
  },
  {
   "cell_type": "code",
   "execution_count": 14,
   "metadata": {},
   "outputs": [],
   "source": [
    "headers={\"Accept\": \"application/json\",\n",
    "    \"Content-Type\": \"application/json\",\n",
    "    \"Host\": \"apidatos.ree.es\"}\n",
    "ruta_demanda = r\"C:\\\\Users\\\\Administrador\\\\Desktop\\\\RCM\\\\laboratorio-modulo5-leccion01-elt-extraccion\\\\data\\\\demanda\"\n",
    "os.makedirs(ruta_demanda, exist_ok=True)"
   ]
  },
  {
   "cell_type": "code",
   "execution_count": 15,
   "metadata": {},
   "outputs": [],
   "source": [
    "lista_anios=[2019,2020,2021]"
   ]
  },
  {
   "cell_type": "code",
   "execution_count": 16,
   "metadata": {},
   "outputs": [],
   "source": [
    "for anio in lista_anios:\n",
    "    for nombre, ccaa in sop.codigos_comunidades.items():\n",
    "        \n",
    "        url_demanda=f\"https://apidatos.ree.es/es/datos/demanda/evolucion?start_date={anio}-01-01T00:00&end_date={anio}-12-31T23:59&time_trunc=month&geo_trunk=electric_system&geo_limit=ccaa&geo_ids={ccaa}\"\n",
    "\n",
    "        response = requests.get(url_demanda, headers=headers)\n",
    "        responsa= response.json()  \n",
    "        df_demanda= pd.DataFrame(responsa['included'][0]['attributes']['values']) \n",
    "        df_demanda[\"cod_ccaa\"]= ccaa\n",
    "        df_demanda.to_csv(os.path.join(ruta_demanda, f'{nombre}_{anio}.csv'))"
   ]
  },
  {
   "cell_type": "code",
   "execution_count": 19,
   "metadata": {},
   "outputs": [],
   "source": [
    "ruta_generacion = r\"C:\\\\Users\\\\Administrador\\\\Desktop\\\\RCM\\\\laboratorio-modulo5-leccion01-elt-extraccion\\\\data\\\\generacion\"\n",
    "os.makedirs(ruta_generacion, exist_ok=True)\n",
    "\n",
    "for anio in lista_anios:\n",
    "    for nombre, ccaa in sop.codigos_comunidades.items():\n",
    "        \n",
    "        url_generacion=f\"https://apidatos.ree.es/es/datos/generacion/estructura-renovables?start_date={anio}-01-01T00:00&end_date={anio}-12-31T23:59&time_trunc=month&geo_trunk=electric_system&geo_limit=ccaa&geo_ids={ccaa}\"\n",
    "\n",
    "        response = requests.get(url_generacion, headers=headers)\n",
    "        if response.status_code != 200:\n",
    "            continue\n",
    "        else:\n",
    "            responsa= response.json()  \n",
    "            df_completo= pd.DataFrame()\n",
    "            for i in range(0, len(responsa['included'])):\n",
    "                df_tipo=pd.DataFrame(responsa['included'][i]['attributes']['values'])\n",
    "                df_tipo[\"type\"]= responsa[\"included\"][i][\"type\"]\n",
    "                df_tipo[\"cod_ccaa\"]= ccaa\n",
    "                df_completo= pd.concat([df_completo, df_tipo ])\n",
    "            df_oferta= df_completo.to_csv(os.path.join(ruta_generacion, f'{nombre}_{anio}.csv'))"
   ]
  }
 ],
 "metadata": {
  "kernelspec": {
   "display_name": "Python 3",
   "language": "python",
   "name": "python3"
  },
  "language_info": {
   "codemirror_mode": {
    "name": "ipython",
    "version": 3
   },
   "file_extension": ".py",
   "mimetype": "text/x-python",
   "name": "python",
   "nbconvert_exporter": "python",
   "pygments_lexer": "ipython3",
   "version": "3.12.6"
  }
 },
 "nbformat": 4,
 "nbformat_minor": 2
}
