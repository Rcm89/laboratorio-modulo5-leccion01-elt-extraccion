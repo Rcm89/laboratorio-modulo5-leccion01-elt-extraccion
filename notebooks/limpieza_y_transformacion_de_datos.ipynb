{
 "cells": [
  {
   "cell_type": "code",
   "execution_count": 47,
   "metadata": {},
   "outputs": [],
   "source": [
    "# Para gestionar ficheros\n",
    "# -----------------------------------------------------------------------\n",
    "import os\n",
    "import glob\n",
    "\n",
    "# Para trabajar con access\n",
    "# -----------------------------------------------------------------------\n",
    "import subprocess\n",
    "\n",
    "\n",
    "# Para trabajar con DataFrames\n",
    "# -----------------------------------------------------------------------\n",
    "import pandas as pd\n",
    "\n",
    "\n",
    "# Para trabajar con regex\n",
    "# -----------------------------------------------------------------------\n",
    "import re\n",
    "\n",
    "# Para trabajar con ficheros\n",
    "# -----------------------------------------------------------------------\n",
    "import os\n",
    "\n",
    "\n",
    "# Para trabajar con los DataFrames\n",
    "# -----------------------------------------------------------------------\n",
    "import pandas as pd\n",
    "\n",
    "# Para poner barras progreso\n",
    "# -----------------------------------------------------------------------\n",
    "from tqdm import tqdm\n",
    "\n",
    "\n",
    "# Configuración\n",
    "# -----------------------------------------------------------------------\n",
    "pd.set_option('display.max_columns', None) # para poder visualizar todas las columnas de los DataFrames\n",
    "\n",
    "# Ignorar warings\n",
    "# -----------------------------------------------------------------------\n",
    "import warnings\n",
    "warnings.filterwarnings(\"ignore\")"
   ]
  },
  {
   "cell_type": "markdown",
   "metadata": {},
   "source": [
    "### Cargamos los archivos de demanda"
   ]
  },
  {
   "cell_type": "code",
   "execution_count": 48,
   "metadata": {},
   "outputs": [],
   "source": [
    "ruta_demanda = r\"C:\\Users\\Administrador\\Desktop\\RCM\\laboratorio-modulo5-leccion01-elt-extraccion\\data\\demanda\""
   ]
  },
  {
   "cell_type": "code",
   "execution_count": 49,
   "metadata": {},
   "outputs": [
    {
     "data": {
      "text/plain": [
       "['Andalucía_2019.csv',\n",
       " 'Andalucía_2020.csv',\n",
       " 'Andalucía_2021.csv',\n",
       " 'Aragón_2019.csv',\n",
       " 'Aragón_2020.csv',\n",
       " 'Aragón_2021.csv',\n",
       " 'Canarias_2019.csv',\n",
       " 'Canarias_2020.csv',\n",
       " 'Canarias_2021.csv',\n",
       " 'Cantabria_2019.csv',\n",
       " 'Cantabria_2020.csv',\n",
       " 'Cantabria_2021.csv',\n",
       " 'Castilla - La Mancha_2019.csv',\n",
       " 'Castilla - La Mancha_2020.csv',\n",
       " 'Castilla - La Mancha_2021.csv',\n",
       " 'Castilla y León_2019.csv',\n",
       " 'Castilla y León_2020.csv',\n",
       " 'Castilla y León_2021.csv',\n",
       " 'Cataluña_2019.csv',\n",
       " 'Cataluña_2020.csv',\n",
       " 'Cataluña_2021.csv',\n",
       " 'Ceuta_2019.csv',\n",
       " 'Ceuta_2020.csv',\n",
       " 'Ceuta_2021.csv',\n",
       " 'Comunidad de Madrid_2019.csv',\n",
       " 'Comunidad de Madrid_2020.csv',\n",
       " 'Comunidad de Madrid_2021.csv',\n",
       " 'Comunidad Foral de Navarra_2019.csv',\n",
       " 'Comunidad Foral de Navarra_2020.csv',\n",
       " 'Comunidad Foral de Navarra_2021.csv',\n",
       " 'Comunitat Valenciana_2019.csv',\n",
       " 'Comunitat Valenciana_2020.csv',\n",
       " 'Comunitat Valenciana_2021.csv',\n",
       " 'Extremadura_2019.csv',\n",
       " 'Extremadura_2020.csv',\n",
       " 'Extremadura_2021.csv',\n",
       " 'Galicia_2019.csv',\n",
       " 'Galicia_2020.csv',\n",
       " 'Galicia_2021.csv',\n",
       " 'Illes Balears_2019.csv',\n",
       " 'Illes Balears_2020.csv',\n",
       " 'Illes Balears_2021.csv',\n",
       " 'La Rioja_2019.csv',\n",
       " 'La Rioja_2020.csv',\n",
       " 'La Rioja_2021.csv',\n",
       " 'Melilla_2019.csv',\n",
       " 'Melilla_2020.csv',\n",
       " 'Melilla_2021.csv',\n",
       " 'País Vasco_2019.csv',\n",
       " 'País Vasco_2020.csv',\n",
       " 'País Vasco_2021.csv',\n",
       " 'Principado de Asturias_2019.csv',\n",
       " 'Principado de Asturias_2020.csv',\n",
       " 'Principado de Asturias_2021.csv',\n",
       " 'Región de Murcia_2019.csv',\n",
       " 'Región de Murcia_2020.csv',\n",
       " 'Región de Murcia_2021.csv']"
      ]
     },
     "execution_count": 49,
     "metadata": {},
     "output_type": "execute_result"
    }
   ],
   "source": [
    "archivos = os.listdir(ruta_demanda)\n",
    "archivos"
   ]
  },
  {
   "cell_type": "code",
   "execution_count": 50,
   "metadata": {},
   "outputs": [
    {
     "name": "stderr",
     "output_type": "stream",
     "text": [
      "100%|██████████| 57/57 [00:00<00:00, 294.60it/s]\n"
     ]
    }
   ],
   "source": [
    "df_concatenado_demanda=pd.DataFrame()\n",
    "for archivo in tqdm(archivos):\n",
    "    archivo_split= archivo.split(\".csv\")\n",
    "    nombre_anio=archivo_split[0].split(\"_\")\n",
    "    comunidad = nombre_anio[0]\n",
    "    # definimos la ruta para abrir cada uno de los ficheros y realizar las transformaciones\n",
    "    ruta_fichero_demanda = os.path.join(ruta_demanda, archivo)\n",
    "    df = pd.read_csv(ruta_fichero_demanda,index_col=0)\n",
    "    df[\"ccaa\"] = comunidad\n",
    "    # concatenamos todos los archivos de demanda\n",
    "    df_concatenado_demanda = pd.concat([df_concatenado_demanda,df], axis=0)\n"
   ]
  },
  {
   "cell_type": "markdown",
   "metadata": {},
   "source": [
    "### Cargamos los archivos de generacion electrica"
   ]
  },
  {
   "cell_type": "code",
   "execution_count": 51,
   "metadata": {},
   "outputs": [],
   "source": [
    "ruta_generacion = r\"C:\\Users\\Administrador\\Desktop\\RCM\\laboratorio-modulo5-leccion01-elt-extraccion\\data\\generacion\""
   ]
  },
  {
   "cell_type": "code",
   "execution_count": 52,
   "metadata": {},
   "outputs": [
    {
     "data": {
      "text/plain": [
       "['Andalucía_2019.csv',\n",
       " 'Andalucía_2020.csv',\n",
       " 'Andalucía_2021.csv',\n",
       " 'Aragón_2019.csv',\n",
       " 'Aragón_2020.csv',\n",
       " 'Aragón_2021.csv',\n",
       " 'Canarias_2019.csv',\n",
       " 'Canarias_2020.csv',\n",
       " 'Canarias_2021.csv',\n",
       " 'Cantabria_2019.csv',\n",
       " 'Cantabria_2020.csv',\n",
       " 'Cantabria_2021.csv',\n",
       " 'Castilla - La Mancha_2019.csv',\n",
       " 'Castilla - La Mancha_2020.csv',\n",
       " 'Castilla - La Mancha_2021.csv',\n",
       " 'Castilla y León_2019.csv',\n",
       " 'Castilla y León_2020.csv',\n",
       " 'Castilla y León_2021.csv',\n",
       " 'Cataluña_2019.csv',\n",
       " 'Cataluña_2020.csv',\n",
       " 'Cataluña_2021.csv',\n",
       " 'Comunidad de Madrid_2019.csv',\n",
       " 'Comunidad de Madrid_2020.csv',\n",
       " 'Comunidad de Madrid_2021.csv',\n",
       " 'Comunidad Foral de Navarra_2019.csv',\n",
       " 'Comunidad Foral de Navarra_2020.csv',\n",
       " 'Comunidad Foral de Navarra_2021.csv',\n",
       " 'Comunitat Valenciana_2019.csv',\n",
       " 'Comunitat Valenciana_2020.csv',\n",
       " 'Comunitat Valenciana_2021.csv',\n",
       " 'Extremadura_2019.csv',\n",
       " 'Extremadura_2020.csv',\n",
       " 'Extremadura_2021.csv',\n",
       " 'Galicia_2019.csv',\n",
       " 'Galicia_2020.csv',\n",
       " 'Galicia_2021.csv',\n",
       " 'Illes Balears_2019.csv',\n",
       " 'Illes Balears_2020.csv',\n",
       " 'Illes Balears_2021.csv',\n",
       " 'La Rioja_2019.csv',\n",
       " 'La Rioja_2020.csv',\n",
       " 'La Rioja_2021.csv',\n",
       " 'Melilla_2019.csv',\n",
       " 'Melilla_2020.csv',\n",
       " 'Melilla_2021.csv',\n",
       " 'País Vasco_2019.csv',\n",
       " 'País Vasco_2020.csv',\n",
       " 'País Vasco_2021.csv',\n",
       " 'Principado de Asturias_2019.csv',\n",
       " 'Principado de Asturias_2020.csv',\n",
       " 'Principado de Asturias_2021.csv',\n",
       " 'Región de Murcia_2019.csv',\n",
       " 'Región de Murcia_2020.csv',\n",
       " 'Región de Murcia_2021.csv']"
      ]
     },
     "execution_count": 52,
     "metadata": {},
     "output_type": "execute_result"
    }
   ],
   "source": [
    "archivos = os.listdir(ruta_generacion)\n",
    "archivos"
   ]
  },
  {
   "cell_type": "code",
   "execution_count": 53,
   "metadata": {},
   "outputs": [
    {
     "name": "stderr",
     "output_type": "stream",
     "text": [
      "100%|██████████| 54/54 [00:00<00:00, 338.40it/s]\n"
     ]
    }
   ],
   "source": [
    "df_concatenado_generacion=pd.DataFrame()\n",
    "for archivo in tqdm(archivos):\n",
    "    archivo_split= archivo.split(\".csv\")\n",
    "    nombre_anio=archivo_split[0].split(\"_\")\n",
    "    comunidad = nombre_anio[0]\n",
    "    # definimos la ruta para abrir cada uno de los ficheros y realizar las transformaciones\n",
    "    ruta_fichero_generacion = os.path.join(ruta_generacion, archivo)\n",
    "    df = pd.read_csv(ruta_fichero_generacion, index_col=0)\n",
    "    df[\"ccaa\"] = comunidad\n",
    "    df_concatenado_generacion = pd.concat([df_concatenado_generacion,df], axis=0)\n",
    "          "
   ]
  },
  {
   "cell_type": "code",
   "execution_count": 54,
   "metadata": {},
   "outputs": [
    {
     "data": {
      "text/html": [
       "<div>\n",
       "<style scoped>\n",
       "    .dataframe tbody tr th:only-of-type {\n",
       "        vertical-align: middle;\n",
       "    }\n",
       "\n",
       "    .dataframe tbody tr th {\n",
       "        vertical-align: top;\n",
       "    }\n",
       "\n",
       "    .dataframe thead th {\n",
       "        text-align: right;\n",
       "    }\n",
       "</style>\n",
       "<table border=\"1\" class=\"dataframe\">\n",
       "  <thead>\n",
       "    <tr style=\"text-align: right;\">\n",
       "      <th></th>\n",
       "      <th>value</th>\n",
       "      <th>percentage</th>\n",
       "      <th>datetime</th>\n",
       "      <th>cod_ccaa</th>\n",
       "      <th>ccaa</th>\n",
       "    </tr>\n",
       "  </thead>\n",
       "  <tbody>\n",
       "    <tr>\n",
       "      <th>0</th>\n",
       "      <td>3668893.328</td>\n",
       "      <td>1</td>\n",
       "      <td>2019-01-01T00:00:00.000+01:00</td>\n",
       "      <td>4</td>\n",
       "      <td>Andalucía</td>\n",
       "    </tr>\n",
       "    <tr>\n",
       "      <th>1</th>\n",
       "      <td>3152278.091</td>\n",
       "      <td>1</td>\n",
       "      <td>2019-02-01T00:00:00.000+01:00</td>\n",
       "      <td>4</td>\n",
       "      <td>Andalucía</td>\n",
       "    </tr>\n",
       "    <tr>\n",
       "      <th>2</th>\n",
       "      <td>3216356.360</td>\n",
       "      <td>1</td>\n",
       "      <td>2019-03-01T00:00:00.000+01:00</td>\n",
       "      <td>4</td>\n",
       "      <td>Andalucía</td>\n",
       "    </tr>\n",
       "    <tr>\n",
       "      <th>3</th>\n",
       "      <td>3029639.973</td>\n",
       "      <td>1</td>\n",
       "      <td>2019-04-01T00:00:00.000+02:00</td>\n",
       "      <td>4</td>\n",
       "      <td>Andalucía</td>\n",
       "    </tr>\n",
       "    <tr>\n",
       "      <th>4</th>\n",
       "      <td>3154123.467</td>\n",
       "      <td>1</td>\n",
       "      <td>2019-05-01T00:00:00.000+02:00</td>\n",
       "      <td>4</td>\n",
       "      <td>Andalucía</td>\n",
       "    </tr>\n",
       "  </tbody>\n",
       "</table>\n",
       "</div>"
      ],
      "text/plain": [
       "         value  percentage                       datetime  cod_ccaa       ccaa\n",
       "0  3668893.328           1  2019-01-01T00:00:00.000+01:00         4  Andalucía\n",
       "1  3152278.091           1  2019-02-01T00:00:00.000+01:00         4  Andalucía\n",
       "2  3216356.360           1  2019-03-01T00:00:00.000+01:00         4  Andalucía\n",
       "3  3029639.973           1  2019-04-01T00:00:00.000+02:00         4  Andalucía\n",
       "4  3154123.467           1  2019-05-01T00:00:00.000+02:00         4  Andalucía"
      ]
     },
     "execution_count": 54,
     "metadata": {},
     "output_type": "execute_result"
    }
   ],
   "source": [
    "df_concatenado_demanda.head()"
   ]
  },
  {
   "cell_type": "code",
   "execution_count": 55,
   "metadata": {},
   "outputs": [
    {
     "name": "stdout",
     "output_type": "stream",
     "text": [
      "<class 'pandas.core.frame.DataFrame'>\n",
      "Index: 684 entries, 0 to 11\n",
      "Data columns (total 5 columns):\n",
      " #   Column      Non-Null Count  Dtype  \n",
      "---  ------      --------------  -----  \n",
      " 0   value       684 non-null    float64\n",
      " 1   percentage  684 non-null    int64  \n",
      " 2   datetime    684 non-null    object \n",
      " 3   cod_ccaa    684 non-null    int64  \n",
      " 4   ccaa        684 non-null    object \n",
      "dtypes: float64(1), int64(2), object(2)\n",
      "memory usage: 32.1+ KB\n"
     ]
    }
   ],
   "source": [
    "df_concatenado_demanda.info()"
   ]
  },
  {
   "cell_type": "code",
   "execution_count": 56,
   "metadata": {},
   "outputs": [
    {
     "data": {
      "text/html": [
       "<div>\n",
       "<style scoped>\n",
       "    .dataframe tbody tr th:only-of-type {\n",
       "        vertical-align: middle;\n",
       "    }\n",
       "\n",
       "    .dataframe tbody tr th {\n",
       "        vertical-align: top;\n",
       "    }\n",
       "\n",
       "    .dataframe thead th {\n",
       "        text-align: right;\n",
       "    }\n",
       "</style>\n",
       "<table border=\"1\" class=\"dataframe\">\n",
       "  <thead>\n",
       "    <tr style=\"text-align: right;\">\n",
       "      <th></th>\n",
       "      <th>value</th>\n",
       "      <th>percentage</th>\n",
       "      <th>datetime</th>\n",
       "      <th>type</th>\n",
       "      <th>cod_ccaa</th>\n",
       "      <th>ccaa</th>\n",
       "    </tr>\n",
       "  </thead>\n",
       "  <tbody>\n",
       "    <tr>\n",
       "      <th>0</th>\n",
       "      <td>25288.605</td>\n",
       "      <td>0.029517</td>\n",
       "      <td>2019-01-01T00:00:00.000+01:00</td>\n",
       "      <td>Hidráulica</td>\n",
       "      <td>4</td>\n",
       "      <td>Andalucía</td>\n",
       "    </tr>\n",
       "    <tr>\n",
       "      <th>1</th>\n",
       "      <td>33933.350</td>\n",
       "      <td>0.030779</td>\n",
       "      <td>2019-02-01T00:00:00.000+01:00</td>\n",
       "      <td>Hidráulica</td>\n",
       "      <td>4</td>\n",
       "      <td>Andalucía</td>\n",
       "    </tr>\n",
       "    <tr>\n",
       "      <th>2</th>\n",
       "      <td>35913.000</td>\n",
       "      <td>0.029645</td>\n",
       "      <td>2019-03-01T00:00:00.000+01:00</td>\n",
       "      <td>Hidráulica</td>\n",
       "      <td>4</td>\n",
       "      <td>Andalucía</td>\n",
       "    </tr>\n",
       "    <tr>\n",
       "      <th>3</th>\n",
       "      <td>44050.848</td>\n",
       "      <td>0.041340</td>\n",
       "      <td>2019-04-01T00:00:00.000+02:00</td>\n",
       "      <td>Hidráulica</td>\n",
       "      <td>4</td>\n",
       "      <td>Andalucía</td>\n",
       "    </tr>\n",
       "    <tr>\n",
       "      <th>4</th>\n",
       "      <td>88535.452</td>\n",
       "      <td>0.068497</td>\n",
       "      <td>2019-05-01T00:00:00.000+02:00</td>\n",
       "      <td>Hidráulica</td>\n",
       "      <td>4</td>\n",
       "      <td>Andalucía</td>\n",
       "    </tr>\n",
       "  </tbody>\n",
       "</table>\n",
       "</div>"
      ],
      "text/plain": [
       "       value  percentage                       datetime        type  cod_ccaa  \\\n",
       "0  25288.605    0.029517  2019-01-01T00:00:00.000+01:00  Hidráulica         4   \n",
       "1  33933.350    0.030779  2019-02-01T00:00:00.000+01:00  Hidráulica         4   \n",
       "2  35913.000    0.029645  2019-03-01T00:00:00.000+01:00  Hidráulica         4   \n",
       "3  44050.848    0.041340  2019-04-01T00:00:00.000+02:00  Hidráulica         4   \n",
       "4  88535.452    0.068497  2019-05-01T00:00:00.000+02:00  Hidráulica         4   \n",
       "\n",
       "        ccaa  \n",
       "0  Andalucía  \n",
       "1  Andalucía  \n",
       "2  Andalucía  \n",
       "3  Andalucía  \n",
       "4  Andalucía  "
      ]
     },
     "execution_count": 56,
     "metadata": {},
     "output_type": "execute_result"
    }
   ],
   "source": [
    "df_concatenado_generacion.head()"
   ]
  },
  {
   "cell_type": "code",
   "execution_count": 57,
   "metadata": {},
   "outputs": [
    {
     "name": "stdout",
     "output_type": "stream",
     "text": [
      "<class 'pandas.core.frame.DataFrame'>\n",
      "Index: 3557 entries, 0 to 11\n",
      "Data columns (total 6 columns):\n",
      " #   Column      Non-Null Count  Dtype  \n",
      "---  ------      --------------  -----  \n",
      " 0   value       3557 non-null   float64\n",
      " 1   percentage  3557 non-null   float64\n",
      " 2   datetime    3557 non-null   object \n",
      " 3   type        3557 non-null   object \n",
      " 4   cod_ccaa    3557 non-null   int64  \n",
      " 5   ccaa        3557 non-null   object \n",
      "dtypes: float64(2), int64(1), object(3)\n",
      "memory usage: 194.5+ KB\n"
     ]
    }
   ],
   "source": [
    "df_concatenado_generacion.info()"
   ]
  },
  {
   "cell_type": "markdown",
   "metadata": {},
   "source": [
    "### Cargamos los archivos demográficos y economicos del INE"
   ]
  },
  {
   "cell_type": "code",
   "execution_count": 58,
   "metadata": {},
   "outputs": [],
   "source": [
    "ruta_origen = r\"C:\\Users\\Administrador\\Desktop\\RCM\\laboratorio-modulo5-leccion01-elt-extraccion\\data\\ine\""
   ]
  },
  {
   "cell_type": "code",
   "execution_count": 59,
   "metadata": {},
   "outputs": [],
   "source": [
    "archivos = os.listdir(ruta_origen)"
   ]
  },
  {
   "cell_type": "code",
   "execution_count": 60,
   "metadata": {},
   "outputs": [
    {
     "data": {
      "text/plain": [
       "['03001.csv', '67284.csv']"
      ]
     },
     "execution_count": 60,
     "metadata": {},
     "output_type": "execute_result"
    }
   ],
   "source": [
    "archivos"
   ]
  },
  {
   "cell_type": "code",
   "execution_count": 61,
   "metadata": {},
   "outputs": [
    {
     "name": "stderr",
     "output_type": "stream",
     "text": [
      "100%|██████████| 2/2 [00:00<00:00, 80.18it/s]\n"
     ]
    }
   ],
   "source": [
    "# Archivos demograficos del INE\n",
    "for archivo in tqdm(archivos):\n",
    "    # seleccionamos solo los archivos demograficos\n",
    "    if \"03001\" in archivo:\n",
    "        ruta_fichero_demografico = os.path.join(ruta_origen, archivo)\n",
    "        df_datos_demograficos = pd.read_csv(ruta_fichero_demografico, encoding= 'latin-1', sep=';')\n",
    "        \n",
    "        "
   ]
  },
  {
   "cell_type": "code",
   "execution_count": 62,
   "metadata": {},
   "outputs": [
    {
     "name": "stderr",
     "output_type": "stream",
     "text": [
      "100%|██████████| 2/2 [00:00<00:00, 154.24it/s]\n"
     ]
    }
   ],
   "source": [
    "# Archivos economicos del INE\n",
    "for archivo in tqdm(archivos):\n",
    "    # seleccionamos solo los archivos demograficos\n",
    "    if \"67284\" in archivo:\n",
    "        ruta_fichero_economico = os.path.join(ruta_origen, archivo)\n",
    "        df_datos_economicos = pd.read_csv(ruta_fichero_economico,encoding= 'latin-1',sep=';')\n"
   ]
  },
  {
   "cell_type": "markdown",
   "metadata": {},
   "source": [
    "### Limpieza de datos"
   ]
  },
  {
   "cell_type": "markdown",
   "metadata": {},
   "source": [
    "Empezamos con los dataframes de demanda y generación"
   ]
  },
  {
   "cell_type": "markdown",
   "metadata": {},
   "source": [
    "Eliminamos la columna \"Unnamed 0\" de ambos dataframes\n",
    "\n"
   ]
  },
  {
   "cell_type": "markdown",
   "metadata": {},
   "source": [
    "En el DataFrame de la demanda vamos a poner la fecha en el formato correcto"
   ]
  },
  {
   "cell_type": "code",
   "execution_count": 75,
   "metadata": {},
   "outputs": [
    {
     "data": {
      "text/plain": [
       "0     2018\n",
       "1     2019\n",
       "2     2019\n",
       "3     2019\n",
       "4     2019\n",
       "      ... \n",
       "7     2021\n",
       "8     2021\n",
       "9     2021\n",
       "10    2021\n",
       "11    2021\n",
       "Name: datetime, Length: 684, dtype: int32"
      ]
     },
     "execution_count": 75,
     "metadata": {},
     "output_type": "execute_result"
    }
   ],
   "source": [
    "pd.to_datetime(df_concatenado_demanda[\"datetime\"], utc=True).dt.tz_localize(None).dt.year"
   ]
  },
  {
   "cell_type": "code",
   "execution_count": 44,
   "metadata": {},
   "outputs": [],
   "source": [
    "df_concatenado_demanda[\"month\"] = df_concatenado_demanda[\"datetime\"].apply(\n",
    "    lambda x: pd.to_datetime(x).month if pd.notnull(x) else None\n",
    ")\n",
    "df_concatenado_demanda[\"year\"] = df_concatenado_demanda[\"datetime\"].apply(\n",
    "    lambda x: pd.to_datetime(x).year if pd.notnull(x) else None\n",
    ")\n",
    "\n",
    "df_concatenado_demanda.drop(columns=\"datetime\", inplace=True)\n",
    "\n"
   ]
  },
  {
   "cell_type": "code",
   "execution_count": 45,
   "metadata": {},
   "outputs": [
    {
     "name": "stdout",
     "output_type": "stream",
     "text": [
      "<class 'pandas.core.frame.DataFrame'>\n",
      "Index: 684 entries, 0 to 11\n",
      "Data columns (total 6 columns):\n",
      " #   Column      Non-Null Count  Dtype  \n",
      "---  ------      --------------  -----  \n",
      " 0   value       684 non-null    float64\n",
      " 1   percentage  684 non-null    int64  \n",
      " 2   cod_ccaa    684 non-null    int64  \n",
      " 3   ccaa        684 non-null    object \n",
      " 4   month       684 non-null    int64  \n",
      " 5   year        684 non-null    int64  \n",
      "dtypes: float64(1), int64(4), object(1)\n",
      "memory usage: 37.4+ KB\n"
     ]
    }
   ],
   "source": [
    "# VAmos a ver si tenemos nulos y a hacernos una idea de los tipos de datos que tenemos\n",
    "df_concatenado_demanda.info()"
   ]
  }
 ],
 "metadata": {
  "kernelspec": {
   "display_name": "Python 3",
   "language": "python",
   "name": "python3"
  },
  "language_info": {
   "codemirror_mode": {
    "name": "ipython",
    "version": 3
   },
   "file_extension": ".py",
   "mimetype": "text/x-python",
   "name": "python",
   "nbconvert_exporter": "python",
   "pygments_lexer": "ipython3",
   "version": "3.12.6"
  }
 },
 "nbformat": 4,
 "nbformat_minor": 2
}
